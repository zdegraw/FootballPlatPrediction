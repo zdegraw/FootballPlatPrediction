{
 "cells": [
  {
   "cell_type": "code",
   "execution_count": 81,
   "metadata": {
    "id": "1HbQafy1JXAt"
   },
   "outputs": [],
   "source": [
    "from sklearn.neural_network import MLPClassifier\n",
    "import numpy as np\n",
    "import pandas as pd\n",
    "import matplotlib.pyplot as plt\n",
    "import datetime\n",
    "from sklearn.tree import DecisionTreeClassifier\n",
    "from scipy.io import arff\n",
    "from sklearn.model_selection import train_test_split\n",
    "from sklearn.datasets import load_iris\n",
    "from sklearn.linear_model import LogisticRegression\n",
    "from sklearn.preprocessing import LabelEncoder\n",
    "from sklearn.neighbors import KNeighborsClassifier, KNeighborsRegressor\n",
    "from sklearn.ensemble import RandomForestClassifier\n",
    "from sklearn.feature_selection import SelectKBest, f_regression\n",
    "import tensorflow as tf\n",
    "from tensorflow.keras.models import Sequential\n",
    "from tensorflow.keras.layers import Dense\n",
    "from sklearn.preprocessing import StandardScaler\n",
    "import time"
   ]
  },
  {
   "cell_type": "code",
   "execution_count": 82,
   "metadata": {
    "id": "l2Y952ToLekA"
   },
   "outputs": [
    {
     "data": {
      "text/html": [
       "<div>\n",
       "<style scoped>\n",
       "    .dataframe tbody tr th:only-of-type {\n",
       "        vertical-align: middle;\n",
       "    }\n",
       "\n",
       "    .dataframe tbody tr th {\n",
       "        vertical-align: top;\n",
       "    }\n",
       "\n",
       "    .dataframe thead th {\n",
       "        text-align: right;\n",
       "    }\n",
       "</style>\n",
       "<table border=\"1\" class=\"dataframe\">\n",
       "  <thead>\n",
       "    <tr style=\"text-align: right;\">\n",
       "      <th></th>\n",
       "      <th>Quarter</th>\n",
       "      <th>Time</th>\n",
       "      <th>Down</th>\n",
       "      <th>ToGo</th>\n",
       "      <th>Location</th>\n",
       "      <th>Relative Score</th>\n",
       "      <th>Result</th>\n",
       "    </tr>\n",
       "  </thead>\n",
       "  <tbody>\n",
       "    <tr>\n",
       "      <th>0</th>\n",
       "      <td>1</td>\n",
       "      <td>739</td>\n",
       "      <td>1</td>\n",
       "      <td>10</td>\n",
       "      <td>51</td>\n",
       "      <td>0</td>\n",
       "      <td>1</td>\n",
       "    </tr>\n",
       "    <tr>\n",
       "      <th>1</th>\n",
       "      <td>1</td>\n",
       "      <td>706</td>\n",
       "      <td>2</td>\n",
       "      <td>4</td>\n",
       "      <td>57</td>\n",
       "      <td>0</td>\n",
       "      <td>1</td>\n",
       "    </tr>\n",
       "    <tr>\n",
       "      <th>2</th>\n",
       "      <td>1</td>\n",
       "      <td>667</td>\n",
       "      <td>1</td>\n",
       "      <td>10</td>\n",
       "      <td>65</td>\n",
       "      <td>0</td>\n",
       "      <td>1</td>\n",
       "    </tr>\n",
       "    <tr>\n",
       "      <th>3</th>\n",
       "      <td>1</td>\n",
       "      <td>629</td>\n",
       "      <td>2</td>\n",
       "      <td>10</td>\n",
       "      <td>65</td>\n",
       "      <td>0</td>\n",
       "      <td>2</td>\n",
       "    </tr>\n",
       "    <tr>\n",
       "      <th>4</th>\n",
       "      <td>1</td>\n",
       "      <td>586</td>\n",
       "      <td>1</td>\n",
       "      <td>10</td>\n",
       "      <td>77</td>\n",
       "      <td>0</td>\n",
       "      <td>1</td>\n",
       "    </tr>\n",
       "    <tr>\n",
       "      <th>...</th>\n",
       "      <td>...</td>\n",
       "      <td>...</td>\n",
       "      <td>...</td>\n",
       "      <td>...</td>\n",
       "      <td>...</td>\n",
       "      <td>...</td>\n",
       "      <td>...</td>\n",
       "    </tr>\n",
       "    <tr>\n",
       "      <th>774</th>\n",
       "      <td>4</td>\n",
       "      <td>367</td>\n",
       "      <td>4</td>\n",
       "      <td>7</td>\n",
       "      <td>31</td>\n",
       "      <td>35</td>\n",
       "      <td>3</td>\n",
       "    </tr>\n",
       "    <tr>\n",
       "      <th>775</th>\n",
       "      <td>4</td>\n",
       "      <td>170</td>\n",
       "      <td>1</td>\n",
       "      <td>10</td>\n",
       "      <td>4</td>\n",
       "      <td>35</td>\n",
       "      <td>1</td>\n",
       "    </tr>\n",
       "    <tr>\n",
       "      <th>776</th>\n",
       "      <td>4</td>\n",
       "      <td>129</td>\n",
       "      <td>2</td>\n",
       "      <td>8</td>\n",
       "      <td>6</td>\n",
       "      <td>35</td>\n",
       "      <td>1</td>\n",
       "    </tr>\n",
       "    <tr>\n",
       "      <th>777</th>\n",
       "      <td>4</td>\n",
       "      <td>120</td>\n",
       "      <td>3</td>\n",
       "      <td>8</td>\n",
       "      <td>6</td>\n",
       "      <td>35</td>\n",
       "      <td>1</td>\n",
       "    </tr>\n",
       "    <tr>\n",
       "      <th>778</th>\n",
       "      <td>4</td>\n",
       "      <td>73</td>\n",
       "      <td>4</td>\n",
       "      <td>7</td>\n",
       "      <td>7</td>\n",
       "      <td>35</td>\n",
       "      <td>3</td>\n",
       "    </tr>\n",
       "  </tbody>\n",
       "</table>\n",
       "<p>779 rows × 7 columns</p>\n",
       "</div>"
      ],
      "text/plain": [
       "     Quarter  Time  Down  ToGo  Location  Relative Score  Result\n",
       "0          1   739     1    10        51               0       1\n",
       "1          1   706     2     4        57               0       1\n",
       "2          1   667     1    10        65               0       1\n",
       "3          1   629     2    10        65               0       2\n",
       "4          1   586     1    10        77               0       1\n",
       "..       ...   ...   ...   ...       ...             ...     ...\n",
       "774        4   367     4     7        31              35       3\n",
       "775        4   170     1    10         4              35       1\n",
       "776        4   129     2     8         6              35       1\n",
       "777        4   120     3     8         6              35       1\n",
       "778        4    73     4     7         7              35       3\n",
       "\n",
       "[779 rows x 7 columns]"
      ]
     },
     "execution_count": 82,
     "metadata": {},
     "output_type": "execute_result"
    }
   ],
   "source": [
    "#Import and process the data\n",
    "data = pd.read_csv('RavensData.csv') #I changed the name. You can find this file in the folder.\n",
    "\n",
    "def convert_to_seconds(time_str):\n",
    "    minutes, seconds = map(int, time_str.split(\":\"))\n",
    "    return minutes * 60 + seconds\n",
    "\n",
    "data['Time'] = data['Time'].apply(convert_to_seconds)\n",
    "data.fillna(0, inplace=True)\n",
    "\n",
    "#combines to go feature with down\n",
    "data['Yards/Down'] = data['ToGo']/(5 - data['Down'])\n",
    "\n",
    "#changes time to only account for halves instead of quarters\n",
    "data.loc[data['Quarter'].isin([1, 3]), 'Time'] += 900\n",
    "\n",
    "X = data.drop(['Result'], axis=1)\n",
    "y = data['Result']\n",
    "\n",
    "data"
   ]
  },
  {
   "cell_type": "code",
   "execution_count": 83,
   "metadata": {},
   "outputs": [
    {
     "name": "stdout",
     "output_type": "stream",
     "text": [
      "Index(['Quarter', 'Time', 'Down', 'ToGo', 'Location', 'Relative Score'], dtype='object')\n"
     ]
    },
    {
     "data": {
      "text/plain": [
       "([0, 1, 2, 3, 4, 5],\n",
       " [Text(0, 0, ''),\n",
       "  Text(0, 0, ''),\n",
       "  Text(0, 0, ''),\n",
       "  Text(0, 0, ''),\n",
       "  Text(0, 0, ''),\n",
       "  Text(0, 0, '')])"
      ]
     },
     "execution_count": 83,
     "metadata": {},
     "output_type": "execute_result"
    },
    {
     "data": {
      "image/png": "[encoded data removed]",
      "text/plain": [
       "<Figure size 432x288 with 1 Axes>"
      ]
     },
     "metadata": {
      "needs_background": "light"
     },
     "output_type": "display_data"
    }
   ],
   "source": [
    "bestfeatures = SelectKBest(score_func=f_regression, k='all')\n",
    "fit = bestfeatures.fit(X,y)\n",
    "plt.bar(x=X.columns,height=fit.scores_)\n",
    "plt.ylabel('score')\n",
    "plt.xticks(rotation=35, ha='right')"
   ]
  },
  {
   "cell_type": "code",
   "execution_count": 84,
   "metadata": {
    "colab": {
     "base_uri": "https://localhost:8080/"
    },
    "id": "_VDRmFhxLJgd",
    "outputId": "0ffd461c-95ff-4b86-dad6-f032348d2ab9"
   },
   "outputs": [
    {
     "name": "stdout",
     "output_type": "stream",
     "text": [
      "Test Accuracy: 40.38%\n",
      "Train Accuracy: 42.38%\n",
      "Training Time: 42.26 seconds\n"
     ]
    }
   ],
   "source": [
    "#MLP\n",
    "\"\"\"\n",
    "normal accuracies:\n",
    "Before new feature\n",
    "Train: ~55.38%\n",
    "Test: 45.51%\n",
    "\n",
    "After new feature\n",
    "Train: ~55%\n",
    "Test: ~46%\n",
    "\n",
    "Training time: 15-60 seconds\n",
    "\"\"\"\n",
    "\n",
    "X_train, X_test, y_train, y_test = train_test_split(X, y, test_size=0.2, random_state=42)\n",
    "\n",
    "mlp = MLPClassifier(hidden_layer_sizes=[64], activation='logistic', solver='sgd',\n",
    "                    alpha=0, batch_size=1, learning_rate_init=.01, shuffle=True,\n",
    "                    momentum=0, n_iter_no_change=50, max_iter=1000)\n",
    "\n",
    "start_time = time.time()\n",
    "mlp.fit(X_train, y_train)\n",
    "end_time = time.time()\n",
    "training_time = end_time-start_time\n",
    "\n",
    "score = mlp.score(X_test, y_test)\n",
    "train_score = mlp.score(X_train, y_train)\n",
    "\n",
    "# print(f\"Num Iterations: {mlp.n_iter}\")\n",
    "print(f\"Test Accuracy: {score * 100:.2f}%\")\n",
    "print(f\"Train Accuracy: {train_score * 100:.2f}%\")\n",
    "print(f\"Training Time: {training_time:.2f} seconds\")\n",
    "# print(mlp.predict_proba(X_test))"
   ]
  },
  {
   "cell_type": "code",
   "execution_count": 85,
   "metadata": {
    "colab": {
     "base_uri": "https://localhost:8080/"
    },
    "id": "W2qr7NdWPLm5",
    "outputId": "b19ceb80-9de3-4b89-a3e9-183f4a595af1"
   },
   "outputs": [
    {
     "name": "stdout",
     "output_type": "stream",
     "text": [
      "Accuracy depth  8 : 0.5897435897435898\n",
      "Training Time: 0.007 seconds\n",
      "\n",
      "Accuracy depth  7 : 0.5705128205128205\n",
      "Training Time: 0.005 seconds\n",
      "\n",
      "Accuracy depth  6 : 0.5769230769230769\n",
      "Training Time: 0.003 seconds\n",
      "\n",
      "Accuracy depth  5 : 0.5897435897435898\n",
      "Training Time: 0.004 seconds\n",
      "\n",
      "Accuracy depth  4 : 0.5833333333333334\n",
      "Training Time: 0.000 seconds\n",
      "\n",
      "Accuracy depth  3 : 0.5576923076923077\n",
      "Training Time: 0.004 seconds\n",
      "\n",
      "Accuracy depth  2 : 0.5256410256410257\n",
      "Training Time: 0.003 seconds\n",
      "\n",
      "Accuracy depth  1 : 0.4935897435897436\n",
      "Training Time: 0.002 seconds\n",
      "\n"
     ]
    }
   ],
   "source": [
    "#Decision Tree\n",
    "\"\"\"\n",
    "Before new feature\n",
    "normal accuracy: ~58.3%\n",
    "\n",
    "After new feature\n",
    "normal accuracy: ~63%\n",
    "\n",
    "training time: 0.005 seconds\n",
    "\n",
    "Does best with depth of 6\n",
    "\"\"\"\n",
    "X_train, X_test, y_train, y_test = train_test_split(X, y, test_size=0.2, random_state=42)\n",
    "\n",
    "depths = [8, 7, 6, 5, 4, 3, 2, 1]\n",
    "\n",
    "for depth in depths:\n",
    "  model = DecisionTreeClassifier(max_depth=depth)\n",
    "\n",
    "  start_time = time.time()\n",
    "  model.fit(X_train, y_train)\n",
    "  end_time = time.time()\n",
    "  training_time = end_time-start_time\n",
    "\n",
    "\n",
    "  accuracy = model.score(X_test, y_test)\n",
    "  print(\"Accuracy depth \", depth, \":\", accuracy)\n",
    "  print(f\"Training Time: {training_time:.3f} seconds\\n\")\n",
    "\n"
   ]
  },
  {
   "cell_type": "code",
   "execution_count": 86,
   "metadata": {
    "colab": {
     "base_uri": "https://localhost:8080/"
    },
    "id": "HkUlst180KKq",
    "outputId": "f5cb31fb-92a9-4430-ff0f-b03f08da13df"
   },
   "outputs": [
    {
     "name": "stdout",
     "output_type": "stream",
     "text": [
      "Training set accuracy: 0.6807339449541284\n",
      "Test set accuracy: 0.4230769230769231\n",
      "Output Probabilities for the test set:\n",
      "[[0.6 0.4 0.  0.  0.  0. ]\n",
      " [0.2 0.8 0.  0.  0.  0. ]\n",
      " [0.4 0.4 0.2 0.  0.  0. ]\n",
      " ...\n",
      " [0.4 0.6 0.  0.  0.  0. ]\n",
      " [0.8 0.2 0.  0.  0.  0. ]\n",
      " [0.8 0.2 0.  0.  0.  0. ]]\n",
      "\n",
      "Training set accuracy: 0.7119266055045872\n",
      "Test set accuracy: 0.43162393162393164\n",
      "Training Time: 0.0029 seconds\n",
      "\n",
      "Training set accuracy: 0.6807339449541284\n",
      "Test set accuracy: 0.4230769230769231\n",
      "Training Time: 0.0031 seconds\n",
      "\n",
      "Training set accuracy: 0.6807339449541284\n",
      "Test set accuracy: 0.41025641025641024\n",
      "Training Time: 0.0031 seconds\n",
      "\n",
      "Training set accuracy: 0.6752293577981652\n",
      "Test set accuracy: 0.41025641025641024\n",
      "Training Time: 0.0038 seconds\n",
      "\n",
      "Training set accuracy: 0.673394495412844\n",
      "Test set accuracy: 0.405982905982906\n",
      "Training Time: 0.0018 seconds\n"
     ]
    }
   ],
   "source": [
    "#KNN\n",
    "\n",
    "\"\"\"\n",
    "Before new feature\n",
    "Train Accuracies: ~68%\n",
    "Test accuracies: ~43%\n",
    "\n",
    "After new feature\n",
    "Train accuracies: ~70%\n",
    "Test accuracies: ~47%\n",
    "\"\"\"\n",
    "X_train, X_test, y_train, y_test = train_test_split(X, y, test_size=0.3, random_state=42)\n",
    "\n",
    "knn = KNeighborsClassifier()\n",
    "\n",
    "knn.fit(X_train, y_train)\n",
    "\n",
    "predictions = knn.predict(X_test)\n",
    "\n",
    "train_accuracy = knn.score(X_train, y_train)\n",
    "test_accuracy = knn.score(X_test, y_test)\n",
    "print(f\"Training set accuracy: {train_accuracy}\")\n",
    "print(f\"Test set accuracy: {test_accuracy}\")\n",
    "\n",
    "probabilities = knn.predict_proba(X_test)\n",
    "print(\"Output Probabilities for the test set:\")\n",
    "print(probabilities)\n",
    "\n",
    "for p_value in [1, 2, 3, 4, 5]:\n",
    "    knn = KNeighborsClassifier(p=p_value)\n",
    "    start_time = time.time()\n",
    "    knn.fit(X_train, y_train)\n",
    "    end_time = time.time()\n",
    "    training_time = end_time-start_time\n",
    "\n",
    "    train_accuracy = knn.score(X_train, y_train)\n",
    "    test_accuracy = knn.score(X_test, y_test)\n",
    "    print(f\"\\nTraining set accuracy: {train_accuracy}\")\n",
    "    print(f\"Test set accuracy: {test_accuracy}\")\n",
    "    print(f\"Training Time: {training_time:.4f} seconds\")\n",
    "\n"
   ]
  },
  {
   "cell_type": "code",
   "execution_count": 87,
   "metadata": {
    "colab": {
     "base_uri": "https://localhost:8080/"
    },
    "id": "5KmSoaayUxSU",
    "outputId": "5fa01805-a523-40bc-ecdb-aa27c0cc490d"
   },
   "outputs": [
    {
     "name": "stdout",
     "output_type": "stream",
     "text": [
      "Accuracy depth  8 : 0.7307692307692307\n",
      "Training Time: 0.23 seconds\n",
      "Accuracy depth  7 : 0.7371794871794872\n",
      "Training Time: 0.19 seconds\n",
      "Accuracy depth  6 : 0.7115384615384616\n",
      "Training Time: 0.19 seconds\n",
      "Accuracy depth  5 : 0.7115384615384616\n",
      "Training Time: 0.18 seconds\n",
      "Accuracy depth  4 : 0.7243589743589743\n",
      "Training Time: 0.15 seconds\n",
      "Accuracy depth  3 : 0.6858974358974359\n",
      "Training Time: 0.14 seconds\n",
      "Accuracy depth  2 : 0.6410256410256411\n",
      "Training Time: 0.13 seconds\n",
      "Accuracy depth  1 : 0.5705128205128205\n",
      "Training Time: 0.14 seconds\n"
     ]
    }
   ],
   "source": [
    "#Random Forest\n",
    "\"\"\"\n",
    "Before new feature\n",
    "normal accuracy depth>5: ~65%\n",
    "\n",
    "After new feature\n",
    "normal accuracy depth>5: ~68%\n",
    "Best Accuracy: 74%\n",
    "\n",
    "\"\"\"\n",
    "from sklearn.preprocessing import MinMaxScaler\n",
    "\n",
    "X_train, X_test, y_train, y_test = train_test_split(X, y, test_size=0.2)\n",
    "\n",
    "depths = [8, 7, 6, 5, 4, 3, 2, 1]\n",
    "\n",
    "for depth in depths:\n",
    "    model = RandomForestClassifier(max_depth=depth)\n",
    "\n",
    "    start_time = time.time()\n",
    "    model.fit(X_train, y_train)\n",
    "    end_time = time.time()\n",
    "    training_time = end_time - start_time\n",
    "\n",
    "    accuracy = model.score(X_test, y_test)\n",
    "    print(\"Accuracy depth \", depth, \":\", accuracy)\n",
    "    print(f\"Training Time: {training_time:.2f} seconds\")\n",
    "    \n"
   ]
  },
  {
   "cell_type": "code",
   "execution_count": 88,
   "metadata": {
    "id": "3h-YgjQGaZtE"
   },
   "outputs": [
    {
     "name": "stdout",
     "output_type": "stream",
     "text": [
      "Epoch 1/20\n",
      "20/20 [==============================] - 1s 2ms/step - loss: 1.5017 - accuracy: 0.4815\n",
      "Epoch 2/20\n",
      "20/20 [==============================] - 0s 2ms/step - loss: 1.0556 - accuracy: 0.5377\n",
      "Epoch 3/20\n",
      "20/20 [==============================] - 0s 2ms/step - loss: 0.9112 - accuracy: 0.6035\n",
      "Epoch 4/20\n",
      "20/20 [==============================] - 0s 2ms/step - loss: 0.8519 - accuracy: 0.6132\n",
      "Epoch 5/20\n",
      "20/20 [==============================] - 0s 2ms/step - loss: 0.8081 - accuracy: 0.6212\n",
      "Epoch 6/20\n",
      "20/20 [==============================] - 0s 2ms/step - loss: 0.7769 - accuracy: 0.6421\n",
      "Epoch 7/20\n",
      "20/20 [==============================] - 0s 2ms/step - loss: 0.7509 - accuracy: 0.6629\n",
      "Epoch 8/20\n",
      "20/20 [==============================] - 0s 2ms/step - loss: 0.7280 - accuracy: 0.6565\n",
      "Epoch 9/20\n",
      "20/20 [==============================] - 0s 2ms/step - loss: 0.7104 - accuracy: 0.6774\n",
      "Epoch 10/20\n",
      "20/20 [==============================] - 0s 2ms/step - loss: 0.6928 - accuracy: 0.7030\n",
      "Epoch 11/20\n",
      "20/20 [==============================] - 0s 2ms/step - loss: 0.6755 - accuracy: 0.6886\n",
      "Epoch 12/20\n",
      "20/20 [==============================] - 0s 2ms/step - loss: 0.6632 - accuracy: 0.7143\n",
      "Epoch 13/20\n",
      "20/20 [==============================] - 0s 2ms/step - loss: 0.6453 - accuracy: 0.7030\n",
      "Epoch 14/20\n",
      "20/20 [==============================] - 0s 2ms/step - loss: 0.6413 - accuracy: 0.7111\n",
      "Epoch 15/20\n",
      "20/20 [==============================] - 0s 2ms/step - loss: 0.6257 - accuracy: 0.7239\n",
      "Epoch 16/20\n",
      "20/20 [==============================] - 0s 2ms/step - loss: 0.6204 - accuracy: 0.7095\n",
      "Epoch 17/20\n",
      "20/20 [==============================] - 0s 2ms/step - loss: 0.6101 - accuracy: 0.7384\n",
      "Epoch 18/20\n",
      "20/20 [==============================] - 0s 2ms/step - loss: 0.6000 - accuracy: 0.7303\n",
      "Epoch 19/20\n",
      "20/20 [==============================] - 0s 2ms/step - loss: 0.5907 - accuracy: 0.7384\n",
      "Epoch 20/20\n",
      "20/20 [==============================] - 0s 2ms/step - loss: 0.5900 - accuracy: 0.7352\n",
      "5/5 [==============================] - 0s 2ms/step - loss: 0.7352 - accuracy: 0.6410\n",
      "Test accuracy: 0.6410256624221802\n",
      "Training Time: 1.34 seconds\n"
     ]
    }
   ],
   "source": [
    "#Tensorflow/Keras MLP neural network\n",
    "\"\"\"\n",
    "Before new feature\n",
    "normal accuracy: ~65%\n",
    "\n",
    "AFter new feature\n",
    "normal accuracy: ~66%\n",
    "\n",
    "training time: 2.9 seconds\n",
    "\n",
    "Data must be scaled\n",
    "\"\"\"\n",
    "X_train, X_test, y_train, y_test = train_test_split(X, y-1, test_size=0.2, random_state=42)\n",
    "\n",
    "scaler = StandardScaler()\n",
    "X_train_scaled = scaler.fit_transform(X_train)\n",
    "X_test_scaled = scaler.transform(X_test)\n",
    "\n",
    "num_classes = len(set(y_train))\n",
    "\n",
    "model = Sequential([\n",
    "    Dense(128, activation='relu', input_shape=(X_train.shape[1],)),\n",
    "    Dense(64, activation='relu'),\n",
    "    Dense(num_classes, activation='softmax')  # Assuming a binary classification task\n",
    "])\n",
    "\n",
    "\n",
    "model.compile(optimizer='adam', loss='sparse_categorical_crossentropy', metrics=['accuracy'])\n",
    "\n",
    "start_time = time.time()\n",
    "model.fit(X_train_scaled, y_train, epochs=20)\n",
    "end_time = time.time()\n",
    "training_time = end_time - start_time\n",
    "\n",
    "test_loss, test_acc = model.evaluate(X_test_scaled, y_test)\n",
    "print(f'Test accuracy: {test_acc}')\n",
    "print(f\"Training Time: {training_time:.2f} seconds\")\n"
   ]
  },
  {
   "cell_type": "code",
   "execution_count": 92,
   "metadata": {},
   "outputs": [
    {
     "data": {
      "text/plain": [
       "Text(0.5, 1.0, 'Model Comparison After')"
      ]
     },
     "execution_count": 92,
     "metadata": {},
     "output_type": "execute_result"
    },
    {
     "data": {
      "image/png": "[encoded data removed]",
      "text/plain": [
       "<Figure size 432x288 with 1 Axes>"
      ]
     },
     "metadata": {
      "needs_background": "light"
     },
     "output_type": "display_data"
    },
    {
     "data": {
      "image/png": "[encoded data removed]",
      "text/plain": [
       "<Figure size 432x288 with 1 Axes>"
      ]
     },
     "metadata": {
      "needs_background": "light"
     },
     "output_type": "display_data"
    }
   ],
   "source": [
    "scores = np.array([0.45, 0.58, 0.43, 0.65, 0.65])\n",
    "columns = np.array(['MLP', 'Decision Tree', 'KNN', 'Random Forest', 'Keras DNN'])\n",
    "plt.bar(x=columns,height=scores)\n",
    "plt.ylabel('score')\n",
    "plt.xticks(rotation=35, ha='right')\n",
    "plt.title('Model Comparison Before')\n",
    "\n",
    "scores = np.array([0.46, 0.63, 0.47, 0.68, 0.65])\n",
    "columns = np.array(['MLP', 'Decision Tree', 'KNN', 'Random Forest', 'Keras DNN'])\n",
    "plt.figure()\n",
    "plt.bar(x=columns,height=scores)\n",
    "plt.ylabel('score')\n",
    "plt.xticks(rotation=35, ha='right')\n",
    "plt.title('Model Comparison After')"
   ]
  },
  {
   "cell_type": "code",
   "execution_count": 1,
   "metadata": {},
   "outputs": [
    {
     "data": {
      "image/png": "[encoded data removed]",
      "text/plain": [
       "<Figure size 432x288 with 1 Axes>"
      ]
     },
     "metadata": {
      "needs_background": "light"
     },
     "output_type": "display_data"
    }
   ],
   "source": [
    "import numpy as np\n",
    "import matplotlib.pyplot as plt\n",
    "\n",
    "# Assuming you have an array 'scores' containing the scores for each model\n",
    "test_scores = np.array([0.85, 0.75, 0.80, 0.90, 0.88])\n",
    "\n",
    "# Assuming you have an array 'columns' containing the names of the models\n",
    "columns = np.array(['MLP', 'Decision Tree', 'KNN', 'Random Forest', 'Keras DNN'])\n",
    "\n",
    "# Create a bar chart\n",
    "plt.bar(x=columns, height=test_scores, color=['blue', 'green', 'orange', 'red', 'purple'])\n",
    "\n",
    "# Add labels and title\n",
    "plt.ylabel('Score')\n",
    "plt.xlabel('Models')\n",
    "plt.title('Model Comparison')\n",
    "\n",
    "# Rotate x-axis labels for better visibility\n",
    "plt.xticks(rotation=45, ha='right')\n",
    "\n",
    "# Display the plot\n",
    "plt.show()"
   ]
  }
 ],
 "metadata": {
  "colab": {
   "provenance": []
  },
  "kernelspec": {
   "display_name": "Python 3 (ipykernel)",
   "language": "python",
   "name": "python3"
  },
  "language_info": {
   "codemirror_mode": {
    "name": "ipython",
    "version": 3
   },
   "file_extension": ".py",
   "mimetype": "text/x-python",
   "name": "python",
   "nbconvert_exporter": "python",
   "pygments_lexer": "ipython3",
   "version": "3.9.7"
  }
 },
 "nbformat": 4,
 "nbformat_minor": 1
}
