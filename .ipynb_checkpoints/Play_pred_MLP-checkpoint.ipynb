{
 "cells": [
  {
   "cell_type": "code",
   "execution_count": 6,
   "metadata": {
    "id": "1HbQafy1JXAt"
   },
   "outputs": [],
   "source": [
    "from sklearn.neural_network import MLPClassifier\n",
    "import numpy as np\n",
    "import pandas as pd\n",
    "import matplotlib.pyplot as plt\n",
    "import datetime\n",
    "from sklearn.tree import DecisionTreeClassifier\n",
    "from scipy.io import arff\n",
    "from sklearn.model_selection import train_test_split\n",
    "from sklearn.datasets import load_iris\n",
    "from sklearn.linear_model import LogisticRegression\n",
    "from sklearn.preprocessing import LabelEncoder\n",
    "from sklearn.neighbors import KNeighborsClassifier, KNeighborsRegressor\n",
    "from sklearn.ensemble import RandomForestClassifier\n",
    "from sklearn.feature_selection import SelectKBest, f_regression\n",
    "import tensorflow as tf\n",
    "from tensorflow.keras.models import Sequential\n",
    "from tensorflow.keras.layers import Dense\n",
    "from sklearn.preprocessing import StandardScaler\n",
    "import time"
   ]
  },
  {
   "cell_type": "code",
   "execution_count": 7,
   "metadata": {
    "id": "l2Y952ToLekA"
   },
   "outputs": [
    {
     "name": "stdout",
     "output_type": "stream",
     "text": [
      "779\n"
     ]
    },
    {
     "data": {
      "text/plain": [
       "([0, 1, 2, 3, 4, 5, 6],\n",
       " [Text(0, 0, ''),\n",
       "  Text(0, 0, ''),\n",
       "  Text(0, 0, ''),\n",
       "  Text(0, 0, ''),\n",
       "  Text(0, 0, ''),\n",
       "  Text(0, 0, ''),\n",
       "  Text(0, 0, '')])"
      ]
     },
     "execution_count": 7,
     "metadata": {},
     "output_type": "execute_result"
    },
    {
     "data": {
      "image/png": "[encoded data removed]",
      "text/plain": [
       "<Figure size 432x288 with 1 Axes>"
      ]
     },
     "metadata": {
      "needs_background": "light"
     },
     "output_type": "display_data"
    }
   ],
   "source": [
    "data = pd.read_csv('RavensDataCopy.csv') #I changed the name. You can find this file in the folder.\n",
    "data.head()\n",
    "print(len(data))\n",
    "\n",
    "def convert_to_seconds(time_str):\n",
    "    minutes, seconds = map(int, time_str.split(\":\"))\n",
    "    return minutes * 60 + seconds\n",
    "\n",
    "data['Time'] = data['Time'].apply(convert_to_seconds)\n",
    "data.fillna(0, inplace=True)\n",
    "X = data.drop(['Result'], axis=1)\n",
    "y = data['Result']\n",
    "\n",
    "bestfeatures = SelectKBest(score_func=f_regression, k='all')\n",
    "fit = bestfeatures.fit(X,y)\n",
    "plt.bar(x=X.columns,height=fit.scores_)\n",
    "plt.ylabel('score')\n",
    "plt.xticks(rotation=35, ha='right')"
   ]
  },
  {
   "cell_type": "code",
   "execution_count": 8,
   "metadata": {
    "colab": {
     "base_uri": "https://localhost:8080/"
    },
    "id": "_VDRmFhxLJgd",
    "outputId": "0ffd461c-95ff-4b86-dad6-f032348d2ab9"
   },
   "outputs": [
    {
     "name": "stdout",
     "output_type": "stream",
     "text": [
      "Test Accuracy: 49.36%\n",
      "Train Accuracy: 54.41%\n",
      "Training Time: 14.41 seconds\n"
     ]
    }
   ],
   "source": [
    "#MLP\n",
    "\"\"\"\n",
    "normal accuracies:\n",
    "Before new feature\n",
    "Train: ~55.38%\n",
    "Test: 45.51%\n",
    "\n",
    "After new feature\n",
    "Train: ~55%\n",
    "Test: ~46%\n",
    "\n",
    "Training time: 15-60 seconds\n",
    "\"\"\"\n",
    "\n",
    "X_train, X_test, y_train, y_test = train_test_split(X, y, test_size=0.2, random_state=42)\n",
    "\n",
    "mlp = MLPClassifier(hidden_layer_sizes=[64], activation='logistic', solver='sgd',\n",
    "                    alpha=0, batch_size=1, learning_rate_init=.01, shuffle=True,\n",
    "                    momentum=0, n_iter_no_change=50, max_iter=1000)\n",
    "\n",
    "start_time = time.time()\n",
    "mlp.fit(X_train, y_train)\n",
    "end_time = time.time()\n",
    "training_time = end_time-start_time\n",
    "\n",
    "score = mlp.score(X_test, y_test)\n",
    "train_score = mlp.score(X_train, y_train)\n",
    "\n",
    "# print(f\"Num Iterations: {mlp.n_iter}\")\n",
    "print(f\"Test Accuracy: {score * 100:.2f}%\")\n",
    "print(f\"Train Accuracy: {train_score * 100:.2f}%\")\n",
    "print(f\"Training Time: {training_time:.2f} seconds\")\n",
    "# print(mlp.predict_proba(X_test))"
   ]
  },
  {
   "cell_type": "code",
   "execution_count": 9,
   "metadata": {
    "colab": {
     "base_uri": "https://localhost:8080/"
    },
    "id": "W2qr7NdWPLm5",
    "outputId": "b19ceb80-9de3-4b89-a3e9-183f4a595af1"
   },
   "outputs": [
    {
     "name": "stdout",
     "output_type": "stream",
     "text": [
      "Accuracy depth  8 : 0.6217948717948718\n",
      "Training Time: 0.006 seconds\n",
      "\n",
      "Accuracy depth  7 : 0.6217948717948718\n",
      "Training Time: 0.007 seconds\n",
      "\n",
      "Accuracy depth  6 : 0.6346153846153846\n",
      "Training Time: 0.004 seconds\n",
      "\n",
      "Accuracy depth  5 : 0.5769230769230769\n",
      "Training Time: 0.005 seconds\n",
      "\n",
      "Accuracy depth  4 : 0.5897435897435898\n",
      "Training Time: 0.004 seconds\n",
      "\n",
      "Accuracy depth  3 : 0.5641025641025641\n",
      "Training Time: 0.003 seconds\n",
      "\n",
      "Accuracy depth  2 : 0.5256410256410257\n",
      "Training Time: 0.003 seconds\n",
      "\n",
      "Accuracy depth  1 : 0.4935897435897436\n",
      "Training Time: 0.002 seconds\n",
      "\n"
     ]
    }
   ],
   "source": [
    "#Decision Tree\n",
    "\"\"\"\n",
    "Before new feature\n",
    "normal accuracy: ~58.3%\n",
    "\n",
    "After new feature\n",
    "normal accuracy: ~63%\n",
    "\n",
    "training time: 0.005 seconds\n",
    "\n",
    "Does best with depth of 6\n",
    "\"\"\"\n",
    "X_train, X_test, y_train, y_test = train_test_split(X, y, test_size=0.2, random_state=42)\n",
    "\n",
    "depths = [8, 7, 6, 5, 4, 3, 2, 1]\n",
    "\n",
    "for depth in depths:\n",
    "  model = DecisionTreeClassifier(max_depth=depth)\n",
    "\n",
    "  start_time = time.time()\n",
    "  model.fit(X_train, y_train)\n",
    "  end_time = time.time()\n",
    "  training_time = end_time-start_time\n",
    "\n",
    "\n",
    "  accuracy = model.score(X_test, y_test)\n",
    "  print(\"Accuracy depth \", depth, \":\", accuracy)\n",
    "  print(f\"Training Time: {training_time:.3f} seconds\\n\")"
   ]
  },
  {
   "cell_type": "code",
   "execution_count": 10,
   "metadata": {
    "colab": {
     "base_uri": "https://localhost:8080/"
    },
    "id": "HkUlst180KKq",
    "outputId": "f5cb31fb-92a9-4430-ff0f-b03f08da13df"
   },
   "outputs": [
    {
     "name": "stdout",
     "output_type": "stream",
     "text": [
      "Training set accuracy: 0.6844036697247706\n",
      "Test set accuracy: 0.4700854700854701\n",
      "Output Probabilities for the test set:\n",
      "[[0.6 0.4 0.  0.  0.  0. ]\n",
      " [0.2 0.8 0.  0.  0.  0. ]\n",
      " [0.4 0.4 0.2 0.  0.  0. ]\n",
      " ...\n",
      " [0.6 0.4 0.  0.  0.  0. ]\n",
      " [0.6 0.4 0.  0.  0.  0. ]\n",
      " [0.8 0.2 0.  0.  0.  0. ]]\n",
      "\n",
      "Training set accuracy: 0.7155963302752294\n",
      "Test set accuracy: 0.4700854700854701\n",
      "Training Time: 0.0030 seconds\n",
      "\n",
      "Training set accuracy: 0.6844036697247706\n",
      "Test set accuracy: 0.4700854700854701\n",
      "Training Time: 0.0028 seconds\n",
      "\n",
      "Training set accuracy: 0.6954128440366972\n",
      "Test set accuracy: 0.452991452991453\n",
      "Training Time: 0.0040 seconds\n",
      "\n",
      "Training set accuracy: 0.6844036697247706\n",
      "Test set accuracy: 0.44017094017094016\n",
      "Training Time: 0.0024 seconds\n",
      "\n",
      "Training set accuracy: 0.6880733944954128\n",
      "Test set accuracy: 0.4358974358974359\n",
      "Training Time: 0.0037 seconds\n"
     ]
    }
   ],
   "source": [
    "#KNN\n",
    "\n",
    "\"\"\"\n",
    "Before new feature\n",
    "Train Accuracies: ~68%\n",
    "Test accuracies: ~43%\n",
    "\n",
    "After new feature\n",
    "Train accuracies: ~70%\n",
    "Test accuracies: ~47%\n",
    "\"\"\"\n",
    "X_train, X_test, y_train, y_test = train_test_split(X, y, test_size=0.3, random_state=42)\n",
    "\n",
    "knn = KNeighborsClassifier()\n",
    "\n",
    "knn.fit(X_train, y_train)\n",
    "\n",
    "predictions = knn.predict(X_test)\n",
    "\n",
    "train_accuracy = knn.score(X_train, y_train)\n",
    "test_accuracy = knn.score(X_test, y_test)\n",
    "print(f\"Training set accuracy: {train_accuracy}\")\n",
    "print(f\"Test set accuracy: {test_accuracy}\")\n",
    "\n",
    "probabilities = knn.predict_proba(X_test)\n",
    "print(\"Output Probabilities for the test set:\")\n",
    "print(probabilities)\n",
    "\n",
    "for p_value in [1, 2, 3, 4, 5]:\n",
    "    knn = KNeighborsClassifier(p=p_value)\n",
    "    start_time = time.time()\n",
    "    knn.fit(X_train, y_train)\n",
    "    end_time = time.time()\n",
    "    training_time = end_time-start_time\n",
    "\n",
    "    train_accuracy = knn.score(X_train, y_train)\n",
    "    test_accuracy = knn.score(X_test, y_test)\n",
    "    print(f\"\\nTraining set accuracy: {train_accuracy}\")\n",
    "    print(f\"Test set accuracy: {test_accuracy}\")\n",
    "    print(f\"Training Time: {training_time:.4f} seconds\")\n",
    "\n"
   ]
  },
  {
   "cell_type": "code",
   "execution_count": 15,
   "metadata": {
    "colab": {
     "base_uri": "https://localhost:8080/"
    },
    "id": "5KmSoaayUxSU",
    "outputId": "5fa01805-a523-40bc-ecdb-aa27c0cc490d"
   },
   "outputs": [
    {
     "name": "stdout",
     "output_type": "stream",
     "text": [
      "Accuracy depth  8 : 0.7051282051282052\n",
      "Training Time: 0.14 seconds\n",
      "Accuracy depth  7 : 0.7307692307692307\n",
      "Training Time: 0.16 seconds\n",
      "Accuracy depth  6 : 0.6923076923076923\n",
      "Training Time: 0.17 seconds\n",
      "Accuracy depth  5 : 0.6858974358974359\n",
      "Training Time: 0.15 seconds\n",
      "Accuracy depth  4 : 0.6794871794871795\n",
      "Training Time: 0.15 seconds\n",
      "Accuracy depth  3 : 0.6666666666666666\n",
      "Training Time: 0.14 seconds\n",
      "Accuracy depth  2 : 0.5448717948717948\n",
      "Training Time: 0.13 seconds\n",
      "Accuracy depth  1 : 0.5064102564102564\n",
      "Training Time: 0.11 seconds\n"
     ]
    }
   ],
   "source": [
    "#Random Forest\n",
    "\"\"\"\n",
    "Before new feature\n",
    "normal accuracy depth>5: ~65%\n",
    "\n",
    "After new feature\n",
    "normal accuracy depth>5: ~68%\n",
    "Best Accuracy: 74%\n",
    "\n",
    "\"\"\"\n",
    "from sklearn.preprocessing import MinMaxScaler\n",
    "\n",
    "X_train, X_test, y_train, y_test = train_test_split(X, y, test_size=0.2)\n",
    "\n",
    "depths = [8, 7, 6, 5, 4, 3, 2, 1]\n",
    "\n",
    "for depth in depths:\n",
    "    model = RandomForestClassifier(max_depth=depth)\n",
    "\n",
    "    start_time = time.time()\n",
    "    model.fit(X_train, y_train)\n",
    "    end_time = time.time()\n",
    "    training_time = end_time - start_time\n",
    "\n",
    "    accuracy = model.score(X_test, y_test)\n",
    "    print(\"Accuracy depth \", depth, \":\", accuracy)\n",
    "    print(f\"Training Time: {training_time:.2f} seconds\")"
   ]
  },
  {
   "cell_type": "code",
   "execution_count": 12,
   "metadata": {
    "id": "3h-YgjQGaZtE"
   },
   "outputs": [
    {
     "name": "stdout",
     "output_type": "stream",
     "text": [
      "WARNING:tensorflow:From C:\\Users\\zdegr\\anaconda3\\lib\\site-packages\\keras\\src\\backend.py:873: The name tf.get_default_graph is deprecated. Please use tf.compat.v1.get_default_graph instead.\n",
      "\n",
      "WARNING:tensorflow:From C:\\Users\\zdegr\\anaconda3\\lib\\site-packages\\keras\\src\\optimizers\\__init__.py:309: The name tf.train.Optimizer is deprecated. Please use tf.compat.v1.train.Optimizer instead.\n",
      "\n",
      "Epoch 1/20\n",
      "WARNING:tensorflow:From C:\\Users\\zdegr\\anaconda3\\lib\\site-packages\\keras\\src\\utils\\tf_utils.py:492: The name tf.ragged.RaggedTensorValue is deprecated. Please use tf.compat.v1.ragged.RaggedTensorValue instead.\n",
      "\n",
      "WARNING:tensorflow:From C:\\Users\\zdegr\\anaconda3\\lib\\site-packages\\keras\\src\\engine\\base_layer_utils.py:384: The name tf.executing_eagerly_outside_functions is deprecated. Please use tf.compat.v1.executing_eagerly_outside_functions instead.\n",
      "\n",
      "20/20 [==============================] - 1s 2ms/step - loss: 1.5351 - accuracy: 0.4093\n",
      "Epoch 2/20\n",
      "20/20 [==============================] - 0s 2ms/step - loss: 1.0720 - accuracy: 0.6035\n",
      "Epoch 3/20\n",
      "20/20 [==============================] - 0s 2ms/step - loss: 0.9224 - accuracy: 0.6100\n",
      "Epoch 4/20\n",
      "20/20 [==============================] - 0s 2ms/step - loss: 0.8538 - accuracy: 0.6404\n",
      "Epoch 5/20\n",
      "20/20 [==============================] - 0s 2ms/step - loss: 0.8062 - accuracy: 0.6228\n",
      "Epoch 6/20\n",
      "20/20 [==============================] - 0s 2ms/step - loss: 0.7734 - accuracy: 0.6565\n",
      "Epoch 7/20\n",
      "20/20 [==============================] - 0s 2ms/step - loss: 0.7436 - accuracy: 0.6645\n",
      "Epoch 8/20\n",
      "20/20 [==============================] - 0s 2ms/step - loss: 0.7218 - accuracy: 0.6838\n",
      "Epoch 9/20\n",
      "20/20 [==============================] - 0s 2ms/step - loss: 0.6969 - accuracy: 0.6726\n",
      "Epoch 10/20\n",
      "20/20 [==============================] - 0s 2ms/step - loss: 0.6825 - accuracy: 0.6774\n",
      "Epoch 11/20\n",
      "20/20 [==============================] - 0s 2ms/step - loss: 0.6778 - accuracy: 0.7047\n",
      "Epoch 12/20\n",
      "20/20 [==============================] - 0s 2ms/step - loss: 0.6556 - accuracy: 0.6998\n",
      "Epoch 13/20\n",
      "20/20 [==============================] - 0s 2ms/step - loss: 0.6388 - accuracy: 0.6982\n",
      "Epoch 14/20\n",
      "20/20 [==============================] - 0s 2ms/step - loss: 0.6327 - accuracy: 0.6934\n",
      "Epoch 15/20\n",
      "20/20 [==============================] - 0s 2ms/step - loss: 0.6188 - accuracy: 0.7047\n",
      "Epoch 16/20\n",
      "20/20 [==============================] - 0s 1ms/step - loss: 0.6152 - accuracy: 0.7127\n",
      "Epoch 17/20\n",
      "20/20 [==============================] - 0s 2ms/step - loss: 0.6077 - accuracy: 0.7271\n",
      "Epoch 18/20\n",
      "20/20 [==============================] - 0s 2ms/step - loss: 0.5856 - accuracy: 0.7400\n",
      "Epoch 19/20\n",
      "20/20 [==============================] - 0s 2ms/step - loss: 0.5844 - accuracy: 0.7191\n",
      "Epoch 20/20\n",
      "20/20 [==============================] - 0s 2ms/step - loss: 0.5793 - accuracy: 0.7400\n",
      "5/5 [==============================] - 0s 4ms/step - loss: 0.7600 - accuracy: 0.6218\n",
      "Test accuracy: 0.6217948794364929\n",
      "Training Time: 1.75 seconds\n"
     ]
    }
   ],
   "source": [
    "#Tensorflow/Keras MLP neural network\n",
    "\"\"\"\n",
    "Before new feature\n",
    "normal accuracy: ~65%\n",
    "\n",
    "AFter new feature\n",
    "normal accuracy: ~66%\n",
    "\n",
    "training time: 2.9 seconds\n",
    "\n",
    "Data must be scaled\n",
    "\"\"\"\n",
    "X_train, X_test, y_train, y_test = train_test_split(X, y-1, test_size=0.2, random_state=42)\n",
    "\n",
    "scaler = StandardScaler()\n",
    "X_train_scaled = scaler.fit_transform(X_train)\n",
    "X_test_scaled = scaler.transform(X_test)\n",
    "\n",
    "num_classes = len(set(y_train))\n",
    "\n",
    "model = Sequential([\n",
    "    Dense(128, activation='relu', input_shape=(X_train.shape[1],)),\n",
    "    Dense(64, activation='relu'),\n",
    "    Dense(num_classes, activation='softmax')  # Assuming a binary classification task\n",
    "])\n",
    "\n",
    "\n",
    "model.compile(optimizer='adam', loss='sparse_categorical_crossentropy', metrics=['accuracy'])\n",
    "\n",
    "start_time = time.time()\n",
    "model.fit(X_train_scaled, y_train, epochs=20)\n",
    "end_time = time.time()\n",
    "training_time = end_time - start_time\n",
    "\n",
    "test_loss, test_acc = model.evaluate(X_test_scaled, y_test)\n",
    "print(f'Test accuracy: {test_acc}')\n",
    "print(f\"Training Time: {training_time:.2f} seconds\")\n"
   ]
  }
 ],
 "metadata": {
  "colab": {
   "provenance": []
  },
  "kernelspec": {
   "display_name": "Python 3 (ipykernel)",
   "language": "python",
   "name": "python3"
  },
  "language_info": {
   "codemirror_mode": {
    "name": "ipython",
    "version": 3
   },
   "file_extension": ".py",
   "mimetype": "text/x-python",
   "name": "python",
   "nbconvert_exporter": "python",
   "pygments_lexer": "ipython3",
   "version": "3.9.7"
  }
 },
 "nbformat": 4,
 "nbformat_minor": 1
}
